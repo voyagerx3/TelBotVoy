{
 "cells": [
  {
   "cell_type": "code",
   "execution_count": 1,
   "metadata": {},
   "outputs": [],
   "source": [
    "import sys\n",
    "import time\n",
    "import datetime\n",
    "import telepot\n",
    "import configparser\n",
    "import libo.logo\n",
    "import libo.doit"
   ]
  },
  {
   "cell_type": "code",
   "execution_count": 2,
   "metadata": {},
   "outputs": [],
   "source": [
    "# Global variables\n",
    "last_worktime = 0\n",
    "last_idletime = 0\n",
    "global command\n",
    "global bash\n",
    "global globrand\n",
    "global status\n",
    "global reason"
   ]
  },
  {
   "cell_type": "code",
   "execution_count": 4,
   "metadata": {},
   "outputs": [],
   "source": [
    "# Connecting config\n",
    "Config = configparser.ConfigParser()\n",
    "Config.read('config.ini')\n",
    "def ConfigSectionMap(section):\n",
    "    dict1 = {}\n",
    "    options = Config.options(section)\n",
    "    for option in options:\n",
    "        try:\n",
    "            dict1[option] = Config.get(section, option)\n",
    "            if dict1[option] == -1:\n",
    "                DebugPrint(\"skip: %s\" % option)\n",
    "        except:\n",
    "            print((\"exception on %s!\" % option))\n",
    "            dict1[option] = None\n",
    "    return dict1\n",
    "global TGtoken\n",
    "global TStoken\n",
    "TGtoken = ConfigSectionMap(\"Tokens\")['telegram']\n",
    "TStoken = ConfigSectionMap(\"Tokens\")['thingspeak']"
   ]
  },
  {
   "cell_type": "code",
   "execution_count": 3,
   "metadata": {},
   "outputs": [
    {
     "name": "stdout",
     "output_type": "stream",
     "text": [
      "    ########################################################################\n",
      "    #  __  __             _ _             _               ____        _    #\n",
      "    # |  \\/  |           (_) |           (_)             |  _ \\      | |   #\n",
      "    # | \\  / | ___  _ __  _| |_ ___  _ __ _ _ __   __ _  | |_) | ___ | |_  #\n",
      "    # | |\\/| |/ _ \\| '_ \\| | __/ _ \\| '__| | '_ \\ / _` | |  _ < / _ \\| __| #\n",
      "    # | |  | | (_) | | | | | || (_) | |  | | | | | (_| | | |_) | (_) | |_  #\n",
      "    # |_|  |_|\\___/|_| |_|_|\\__\\___/|_|  |_|_| |_|\\__, | |____/ \\___/ \\__| #\n",
      "    #                                              __/ |                   #\n",
      "    #                                             |___/                    #\n",
      "    ########################################################################\n",
      "    #              Created by E_KOsh (e.m.koshmin@gmail.com).              #\n",
      "    ########################################################################\n"
     ]
    }
   ],
   "source": [
    "#libo.logo.printlogo()\n",
    "libo.doit.doit()"
   ]
  },
  {
   "cell_type": "code",
   "execution_count": 6,
   "metadata": {},
   "outputs": [
    {
     "data": {
      "text/plain": [
       "{'id': 445946569,\n",
       " 'is_bot': True,\n",
       " 'first_name': 'Tprueba01',\n",
       " 'username': 'Tprueba01_bot'}"
      ]
     },
     "execution_count": 6,
     "metadata": {},
     "output_type": "execute_result"
    }
   ],
   "source": [
    "bot = telepot.Bot(TGtoken)\n",
    "bot.getMe()"
   ]
  },
  {
   "cell_type": "code",
   "execution_count": null,
   "metadata": {},
   "outputs": [],
   "source": []
  }
 ],
 "metadata": {
  "kernelspec": {
   "display_name": "Python 3",
   "language": "python",
   "name": "python3"
  },
  "language_info": {
   "codemirror_mode": {
    "name": "ipython",
    "version": 3
   },
   "file_extension": ".py",
   "mimetype": "text/x-python",
   "name": "python",
   "nbconvert_exporter": "python",
   "pygments_lexer": "ipython3",
   "version": "3.7.2"
  }
 },
 "nbformat": 4,
 "nbformat_minor": 2
}
